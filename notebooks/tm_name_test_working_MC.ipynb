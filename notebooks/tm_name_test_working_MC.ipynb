{
 "cells": [
  {
   "cell_type": "code",
   "execution_count": 5,
   "metadata": {},
   "outputs": [],
   "source": [
    "import pandas as pd \n",
    "from pathlib import Path\n"
   ]
  },
  {
   "cell_type": "code",
   "execution_count": 6,
   "metadata": {},
   "outputs": [],
   "source": [
    "current_file_path = Path(__vsc_ipynb_file__)\n",
    "main_directory = current_file_path.parents[1]\n",
    "tm_metadata_path = main_directory.joinpath('data/frontend/project_metadata.csv')\n"
   ]
  },
  {
   "cell_type": "code",
   "execution_count": 7,
   "metadata": {},
   "outputs": [],
   "source": [
    "tm_metadata = pd.read_csv(tm_metadata_path)"
   ]
  },
  {
   "cell_type": "code",
   "execution_count": 10,
   "metadata": {},
   "outputs": [],
   "source": [
    "tm_name = tm_metadata.loc[\n",
    "        (\n",
    "            (tm_metadata['location'] == 'Los Angeles')\n",
    "            & (tm_metadata['building_use_type'] == 'Office')\n",
    "            & (tm_metadata['str_vert_grav_sys'] == 'Steel: columns')\n",
    "            & (tm_metadata['str_horiz_grav_sys'] == 'Steel: frame + concrete on metal deck')\n",
    "            & (tm_metadata['str_lat_sys'] == 'Concrete: shear walls')\n",
    "            # & (tm_metadata['cladding_type'] == 'Curtain wall: steel spandrel')\n",
    "            & (tm_metadata['glazing_type'] == 'Glazing: double pane IGU')\n",
    "            & (tm_metadata['roofing_type'] == 'EPDM roofing')\n",
    "            & (tm_metadata['wwr'] == '33%')\n",
    "        ),\n",
    "        'template_model'\n",
    "    ]"
   ]
  },
  {
   "cell_type": "code",
   "execution_count": 12,
   "metadata": {},
   "outputs": [
    {
     "data": {
      "text/plain": [
       "10"
      ]
     },
     "execution_count": 12,
     "metadata": {},
     "output_type": "execute_result"
    }
   ],
   "source": [
    "len(tm_name)"
   ]
  },
  {
   "cell_type": "code",
   "execution_count": null,
   "metadata": {},
   "outputs": [],
   "source": []
  }
 ],
 "metadata": {
  "kernelspec": {
   "display_name": "venv_arpa",
   "language": "python",
   "name": "python3"
  },
  "language_info": {
   "codemirror_mode": {
    "name": "ipython",
    "version": 3
   },
   "file_extension": ".py",
   "mimetype": "text/x-python",
   "name": "python",
   "nbconvert_exporter": "python",
   "pygments_lexer": "ipython3",
   "version": "3.11.9"
  }
 },
 "nbformat": 4,
 "nbformat_minor": 2
}
