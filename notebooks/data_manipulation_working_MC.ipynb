{
 "cells": [
  {
   "cell_type": "code",
   "execution_count": 11,
   "metadata": {},
   "outputs": [],
   "source": [
    "import pandas as pd\n",
    "from pathlib import Path\n",
    "import yaml\n"
   ]
  },
  {
   "cell_type": "code",
   "execution_count": 12,
   "metadata": {},
   "outputs": [],
   "source": [
    "def read_yaml(file_path: Path) -> dict:\n",
    "    \"\"\"Read yaml files for general use.\n",
    "\n",
    "    Args:\n",
    "        file_path (Path): file path of yaml to read\n",
    "\n",
    "    Raises:\n",
    "        PermissionError: Raised if function does not have permission to access file\n",
    "        IOError: Raised if file cannot be read\n",
    "        Exception: General exception just in case\n",
    "\n",
    "    Returns:\n",
    "        dict: dictionary with yaml information or None if error occurs\n",
    "        str: Logged information in form of Exception or string\n",
    "    \"\"\"\n",
    "    try:\n",
    "        with open(\n",
    "            file=file_path,\n",
    "            mode='r',\n",
    "            encoding=\"utf-8\"\n",
    "        ) as file:\n",
    "            yaml_dict = yaml.safe_load(file)\n",
    "    except PermissionError as pe:\n",
    "        raise PermissionError('Try closing out the file you are trying to read') from pe\n",
    "    except IOError as io:\n",
    "        raise IOError(\"Trouble reading yaml file\") from io\n",
    "\n",
    "    return yaml_dict\n"
   ]
  },
  {
   "cell_type": "code",
   "execution_count": 14,
   "metadata": {},
   "outputs": [],
   "source": [
    "current_file_path = Path(__vsc_ipynb_file__)\n",
    "main_directory = current_file_path.parents[1]\n",
    "config_path = main_directory.joinpath('src/components/config.yml')\n",
    "\n",
    "config = read_yaml(config_path)\n",
    "assert config is not None, 'The config dictionary could not be set'\n",
    "\n",
    "tm_dropdown_yaml = config.get('tm_dropdown')\n",
    "assert tm_dropdown_yaml is not None, 'The config for tm dropdown could not be set'"
   ]
  },
  {
   "cell_type": "code",
   "execution_count": 18,
   "metadata": {},
   "outputs": [
    {
     "data": {
      "text/plain": [
       "[{'label': 'Template Model 1', 'value': 'tm_1'},\n",
       " {'label': 'Template Model 2', 'value': 'tm_2_dummy'}]"
      ]
     },
     "execution_count": 18,
     "metadata": {},
     "output_type": "execute_result"
    }
   ],
   "source": [
    "tm_dropdown_yaml.get('dropdown_list')"
   ]
  },
  {
   "cell_type": "code",
   "execution_count": 23,
   "metadata": {},
   "outputs": [],
   "source": [
    "for item in tm_dropdown_yaml.get('dropdown_list'):\n",
    "    if item['value'] == 'tm_1':\n",
    "        template_model_index = tm_dropdown_yaml.get('dropdown_list').index(item)\n",
    "template_model_name = tm_dropdown_yaml.get('dropdown_list')[template_model_index]['label']"
   ]
  }
 ],
 "metadata": {
  "kernelspec": {
   "display_name": "venv_arpa",
   "language": "python",
   "name": "python3"
  },
  "language_info": {
   "codemirror_mode": {
    "name": "ipython",
    "version": 3
   },
   "file_extension": ".py",
   "mimetype": "text/x-python",
   "name": "python",
   "nbconvert_exporter": "python",
   "pygments_lexer": "ipython3",
   "version": "3.11.9"
  }
 },
 "nbformat": 4,
 "nbformat_minor": 2
}
