{
 "cells": [
  {
   "cell_type": "code",
   "execution_count": 1,
   "metadata": {},
   "outputs": [],
   "source": [
    "import pandas as pd \n",
    "from pathlib import Path \n",
    "import plotly.express as px"
   ]
  },
  {
   "cell_type": "code",
   "execution_count": 2,
   "metadata": {},
   "outputs": [],
   "source": [
    "current_file_path = Path(__vsc_ipynb_file__)\n",
    "main_directory = current_file_path.parents[1]\n",
    "tm_impacts_path = main_directory.joinpath('data/frontend/combined_impacts.csv')"
   ]
  },
  {
   "cell_type": "code",
   "execution_count": 3,
   "metadata": {},
   "outputs": [],
   "source": [
    "tm_impacts = pd.read_csv(tm_impacts_path)"
   ]
  },
  {
   "cell_type": "code",
   "execution_count": 4,
   "metadata": {},
   "outputs": [
    {
     "data": {
      "text/html": [
       "<div>\n",
       "<style scoped>\n",
       "    .dataframe tbody tr th:only-of-type {\n",
       "        vertical-align: middle;\n",
       "    }\n",
       "\n",
       "    .dataframe tbody tr th {\n",
       "        vertical-align: top;\n",
       "    }\n",
       "\n",
       "    .dataframe thead th {\n",
       "        text-align: right;\n",
       "    }\n",
       "</style>\n",
       "<table border=\"1\" class=\"dataframe\">\n",
       "  <thead>\n",
       "    <tr style=\"text-align: right;\">\n",
       "      <th></th>\n",
       "      <th>element_index</th>\n",
       "      <th>index</th>\n",
       "      <th>Building Type</th>\n",
       "      <th>Omiclass</th>\n",
       "      <th>L1</th>\n",
       "      <th>L2</th>\n",
       "      <th>L3</th>\n",
       "      <th>Option</th>\n",
       "      <th>Assembly</th>\n",
       "      <th>Component</th>\n",
       "      <th>...</th>\n",
       "      <th>Global Warming Potential_fossil</th>\n",
       "      <th>Global Warming Potential_biogenic</th>\n",
       "      <th>Global Warming Potential_luluc</th>\n",
       "      <th>Stored Biogenic Carbon</th>\n",
       "      <th>Acidification Potential</th>\n",
       "      <th>Eutrophication Potential</th>\n",
       "      <th>Smog Formation Potential</th>\n",
       "      <th>Ozone Depletion Potential</th>\n",
       "      <th>template_model</th>\n",
       "      <th>scenario</th>\n",
       "    </tr>\n",
       "  </thead>\n",
       "  <tbody>\n",
       "    <tr>\n",
       "      <th>0</th>\n",
       "      <td>Element_0</td>\n",
       "      <td>0</td>\n",
       "      <td>Commercial</td>\n",
       "      <td>21-01 10 10</td>\n",
       "      <td>Substructure</td>\n",
       "      <td>Foundations</td>\n",
       "      <td>Standard Foundations</td>\n",
       "      <td>STR1</td>\n",
       "      <td>Column foundation</td>\n",
       "      <td>Concrete footing</td>\n",
       "      <td>...</td>\n",
       "      <td>1823.215172</td>\n",
       "      <td>-22.951548</td>\n",
       "      <td>0</td>\n",
       "      <td>0.0</td>\n",
       "      <td>4.631868</td>\n",
       "      <td>0.318274</td>\n",
       "      <td>102.488153</td>\n",
       "      <td>1.860000e-07</td>\n",
       "      <td>STR1_ENCO10_ENCT1_ENCR1</td>\n",
       "      <td>default</td>\n",
       "    </tr>\n",
       "    <tr>\n",
       "      <th>1</th>\n",
       "      <td>Element_1</td>\n",
       "      <td>1</td>\n",
       "      <td>Commercial</td>\n",
       "      <td>21-01 10 10</td>\n",
       "      <td>Substructure</td>\n",
       "      <td>Foundations</td>\n",
       "      <td>Standard Foundations</td>\n",
       "      <td>STR1</td>\n",
       "      <td>Column foundation</td>\n",
       "      <td>Steel reinforcement</td>\n",
       "      <td>...</td>\n",
       "      <td>753.659818</td>\n",
       "      <td>-3.865698</td>\n",
       "      <td>0</td>\n",
       "      <td>0.0</td>\n",
       "      <td>3.196379</td>\n",
       "      <td>0.100247</td>\n",
       "      <td>40.624633</td>\n",
       "      <td>-3.110000e-06</td>\n",
       "      <td>STR1_ENCO10_ENCT1_ENCR1</td>\n",
       "      <td>default</td>\n",
       "    </tr>\n",
       "    <tr>\n",
       "      <th>2</th>\n",
       "      <td>Element_2</td>\n",
       "      <td>2</td>\n",
       "      <td>Commercial</td>\n",
       "      <td>21-01 10 10</td>\n",
       "      <td>Substructure</td>\n",
       "      <td>Foundations</td>\n",
       "      <td>Standard Foundations</td>\n",
       "      <td>STR1</td>\n",
       "      <td>Wall foundation</td>\n",
       "      <td>Concrete footing</td>\n",
       "      <td>...</td>\n",
       "      <td>3335.941319</td>\n",
       "      <td>-41.994504</td>\n",
       "      <td>0</td>\n",
       "      <td>0.0</td>\n",
       "      <td>8.474940</td>\n",
       "      <td>0.582347</td>\n",
       "      <td>187.522827</td>\n",
       "      <td>3.400000e-07</td>\n",
       "      <td>STR1_ENCO10_ENCT1_ENCR1</td>\n",
       "      <td>default</td>\n",
       "    </tr>\n",
       "    <tr>\n",
       "      <th>3</th>\n",
       "      <td>Element_3</td>\n",
       "      <td>3</td>\n",
       "      <td>Commercial</td>\n",
       "      <td>21-01 10 10</td>\n",
       "      <td>Substructure</td>\n",
       "      <td>Foundations</td>\n",
       "      <td>Standard Foundations</td>\n",
       "      <td>STR1</td>\n",
       "      <td>Wall foundation</td>\n",
       "      <td>Steel reinforcement</td>\n",
       "      <td>...</td>\n",
       "      <td>1378.995225</td>\n",
       "      <td>-7.073190</td>\n",
       "      <td>0</td>\n",
       "      <td>0.0</td>\n",
       "      <td>5.848516</td>\n",
       "      <td>0.183426</td>\n",
       "      <td>74.332177</td>\n",
       "      <td>-5.700000e-06</td>\n",
       "      <td>STR1_ENCO10_ENCT1_ENCR1</td>\n",
       "      <td>default</td>\n",
       "    </tr>\n",
       "    <tr>\n",
       "      <th>4</th>\n",
       "      <td>Element_4</td>\n",
       "      <td>4</td>\n",
       "      <td>Commercial</td>\n",
       "      <td>21-01 40 10</td>\n",
       "      <td>Substructure</td>\n",
       "      <td>Foundations</td>\n",
       "      <td>Standard Foundations</td>\n",
       "      <td>STR1</td>\n",
       "      <td>Slab on grade</td>\n",
       "      <td>Concrete slab on grade</td>\n",
       "      <td>...</td>\n",
       "      <td>5773.744591</td>\n",
       "      <td>-72.682796</td>\n",
       "      <td>0</td>\n",
       "      <td>0.0</td>\n",
       "      <td>14.668166</td>\n",
       "      <td>1.007908</td>\n",
       "      <td>324.558739</td>\n",
       "      <td>5.890000e-07</td>\n",
       "      <td>STR1_ENCO10_ENCT1_ENCR1</td>\n",
       "      <td>default</td>\n",
       "    </tr>\n",
       "    <tr>\n",
       "      <th>...</th>\n",
       "      <td>...</td>\n",
       "      <td>...</td>\n",
       "      <td>...</td>\n",
       "      <td>...</td>\n",
       "      <td>...</td>\n",
       "      <td>...</td>\n",
       "      <td>...</td>\n",
       "      <td>...</td>\n",
       "      <td>...</td>\n",
       "      <td>...</td>\n",
       "      <td>...</td>\n",
       "      <td>...</td>\n",
       "      <td>...</td>\n",
       "      <td>...</td>\n",
       "      <td>...</td>\n",
       "      <td>...</td>\n",
       "      <td>...</td>\n",
       "      <td>...</td>\n",
       "      <td>...</td>\n",
       "      <td>...</td>\n",
       "      <td>...</td>\n",
       "    </tr>\n",
       "    <tr>\n",
       "      <th>7475</th>\n",
       "      <td>Element_23</td>\n",
       "      <td>82</td>\n",
       "      <td>Commercial</td>\n",
       "      <td>21-02 20 10</td>\n",
       "      <td>Shell</td>\n",
       "      <td>Vertical Enclosure</td>\n",
       "      <td>Exterior Walls</td>\n",
       "      <td>ENCO9</td>\n",
       "      <td>Rainscreen: wood</td>\n",
       "      <td>Interior finish</td>\n",
       "      <td>...</td>\n",
       "      <td>74.151464</td>\n",
       "      <td>0.000000</td>\n",
       "      <td>0</td>\n",
       "      <td>0.0</td>\n",
       "      <td>0.378646</td>\n",
       "      <td>0.022088</td>\n",
       "      <td>12.148219</td>\n",
       "      <td>4.480000e-07</td>\n",
       "      <td>STR3_ENCO9_ENCT2_ENCR1</td>\n",
       "      <td>default</td>\n",
       "    </tr>\n",
       "    <tr>\n",
       "      <th>7476</th>\n",
       "      <td>Element_24</td>\n",
       "      <td>83</td>\n",
       "      <td>Commercial</td>\n",
       "      <td>21-02 20 10</td>\n",
       "      <td>Shell</td>\n",
       "      <td>Vertical Enclosure</td>\n",
       "      <td>Exterior Walls</td>\n",
       "      <td>ENCO9</td>\n",
       "      <td>Rainscreen: wood</td>\n",
       "      <td>Thermal break</td>\n",
       "      <td>...</td>\n",
       "      <td>18.298582</td>\n",
       "      <td>0.000000</td>\n",
       "      <td>0</td>\n",
       "      <td>0.0</td>\n",
       "      <td>0.093440</td>\n",
       "      <td>0.005451</td>\n",
       "      <td>2.997853</td>\n",
       "      <td>1.110000e-07</td>\n",
       "      <td>STR3_ENCO9_ENCT2_ENCR1</td>\n",
       "      <td>default</td>\n",
       "    </tr>\n",
       "    <tr>\n",
       "      <th>7477</th>\n",
       "      <td>Element_25</td>\n",
       "      <td>1</td>\n",
       "      <td>Commercial</td>\n",
       "      <td>21-02 20 20</td>\n",
       "      <td>Shell</td>\n",
       "      <td>Vertical Enclosure</td>\n",
       "      <td>Exterior Windows</td>\n",
       "      <td>ENCT2</td>\n",
       "      <td>Glazing: triple pane IGU</td>\n",
       "      <td>Glazing</td>\n",
       "      <td>...</td>\n",
       "      <td>11576.961900</td>\n",
       "      <td>0.000000</td>\n",
       "      <td>0</td>\n",
       "      <td>0.0</td>\n",
       "      <td>59.116401</td>\n",
       "      <td>3.448457</td>\n",
       "      <td>1896.651205</td>\n",
       "      <td>7.000000e-05</td>\n",
       "      <td>STR3_ENCO9_ENCT2_ENCR1</td>\n",
       "      <td>default</td>\n",
       "    </tr>\n",
       "    <tr>\n",
       "      <th>7478</th>\n",
       "      <td>Element_26</td>\n",
       "      <td>0</td>\n",
       "      <td>Commercial</td>\n",
       "      <td>21-02 30 10</td>\n",
       "      <td>Shell</td>\n",
       "      <td>Horizontal Enclosure</td>\n",
       "      <td>Roofing</td>\n",
       "      <td>ENCR1</td>\n",
       "      <td>EPDM roofing</td>\n",
       "      <td>Waterproofing system</td>\n",
       "      <td>...</td>\n",
       "      <td>281.768513</td>\n",
       "      <td>0.000000</td>\n",
       "      <td>0</td>\n",
       "      <td>0.0</td>\n",
       "      <td>1.438818</td>\n",
       "      <td>0.083931</td>\n",
       "      <td>46.162076</td>\n",
       "      <td>1.700000e-06</td>\n",
       "      <td>STR3_ENCO9_ENCT2_ENCR1</td>\n",
       "      <td>default</td>\n",
       "    </tr>\n",
       "    <tr>\n",
       "      <th>7479</th>\n",
       "      <td>Element_27</td>\n",
       "      <td>1</td>\n",
       "      <td>Commercial</td>\n",
       "      <td>21-02 30 10</td>\n",
       "      <td>Shell</td>\n",
       "      <td>Horizontal Enclosure</td>\n",
       "      <td>Roofing</td>\n",
       "      <td>ENCR1</td>\n",
       "      <td>EPDM roofing</td>\n",
       "      <td>Insulation</td>\n",
       "      <td>...</td>\n",
       "      <td>368.929125</td>\n",
       "      <td>0.000000</td>\n",
       "      <td>0</td>\n",
       "      <td>0.0</td>\n",
       "      <td>1.883893</td>\n",
       "      <td>0.109894</td>\n",
       "      <td>60.441580</td>\n",
       "      <td>2.230000e-06</td>\n",
       "      <td>STR3_ENCO9_ENCT2_ENCR1</td>\n",
       "      <td>default</td>\n",
       "    </tr>\n",
       "  </tbody>\n",
       "</table>\n",
       "<p>7480 rows × 25 columns</p>\n",
       "</div>"
      ],
      "text/plain": [
       "     element_index  index Building Type     Omiclass            L1  \\\n",
       "0        Element_0      0    Commercial  21-01 10 10  Substructure   \n",
       "1        Element_1      1    Commercial  21-01 10 10  Substructure   \n",
       "2        Element_2      2    Commercial  21-01 10 10  Substructure   \n",
       "3        Element_3      3    Commercial  21-01 10 10  Substructure   \n",
       "4        Element_4      4    Commercial  21-01 40 10  Substructure   \n",
       "...            ...    ...           ...          ...           ...   \n",
       "7475    Element_23     82    Commercial  21-02 20 10         Shell   \n",
       "7476    Element_24     83    Commercial  21-02 20 10         Shell   \n",
       "7477    Element_25      1    Commercial  21-02 20 20         Shell   \n",
       "7478    Element_26      0    Commercial  21-02 30 10         Shell   \n",
       "7479    Element_27      1    Commercial  21-02 30 10         Shell   \n",
       "\n",
       "                        L2                    L3 Option  \\\n",
       "0              Foundations  Standard Foundations   STR1   \n",
       "1              Foundations  Standard Foundations   STR1   \n",
       "2              Foundations  Standard Foundations   STR1   \n",
       "3              Foundations  Standard Foundations   STR1   \n",
       "4              Foundations  Standard Foundations   STR1   \n",
       "...                    ...                   ...    ...   \n",
       "7475    Vertical Enclosure        Exterior Walls  ENCO9   \n",
       "7476    Vertical Enclosure        Exterior Walls  ENCO9   \n",
       "7477    Vertical Enclosure      Exterior Windows  ENCT2   \n",
       "7478  Horizontal Enclosure               Roofing  ENCR1   \n",
       "7479  Horizontal Enclosure               Roofing  ENCR1   \n",
       "\n",
       "                      Assembly               Component  ...  \\\n",
       "0            Column foundation        Concrete footing  ...   \n",
       "1            Column foundation     Steel reinforcement  ...   \n",
       "2              Wall foundation        Concrete footing  ...   \n",
       "3              Wall foundation     Steel reinforcement  ...   \n",
       "4                Slab on grade  Concrete slab on grade  ...   \n",
       "...                        ...                     ...  ...   \n",
       "7475          Rainscreen: wood         Interior finish  ...   \n",
       "7476          Rainscreen: wood           Thermal break  ...   \n",
       "7477  Glazing: triple pane IGU                 Glazing  ...   \n",
       "7478              EPDM roofing    Waterproofing system  ...   \n",
       "7479              EPDM roofing              Insulation  ...   \n",
       "\n",
       "     Global Warming Potential_fossil  Global Warming Potential_biogenic  \\\n",
       "0                        1823.215172                         -22.951548   \n",
       "1                         753.659818                          -3.865698   \n",
       "2                        3335.941319                         -41.994504   \n",
       "3                        1378.995225                          -7.073190   \n",
       "4                        5773.744591                         -72.682796   \n",
       "...                              ...                                ...   \n",
       "7475                       74.151464                           0.000000   \n",
       "7476                       18.298582                           0.000000   \n",
       "7477                    11576.961900                           0.000000   \n",
       "7478                      281.768513                           0.000000   \n",
       "7479                      368.929125                           0.000000   \n",
       "\n",
       "     Global Warming Potential_luluc Stored Biogenic Carbon  \\\n",
       "0                                 0                    0.0   \n",
       "1                                 0                    0.0   \n",
       "2                                 0                    0.0   \n",
       "3                                 0                    0.0   \n",
       "4                                 0                    0.0   \n",
       "...                             ...                    ...   \n",
       "7475                              0                    0.0   \n",
       "7476                              0                    0.0   \n",
       "7477                              0                    0.0   \n",
       "7478                              0                    0.0   \n",
       "7479                              0                    0.0   \n",
       "\n",
       "     Acidification Potential  Eutrophication Potential  \\\n",
       "0                   4.631868                  0.318274   \n",
       "1                   3.196379                  0.100247   \n",
       "2                   8.474940                  0.582347   \n",
       "3                   5.848516                  0.183426   \n",
       "4                  14.668166                  1.007908   \n",
       "...                      ...                       ...   \n",
       "7475                0.378646                  0.022088   \n",
       "7476                0.093440                  0.005451   \n",
       "7477               59.116401                  3.448457   \n",
       "7478                1.438818                  0.083931   \n",
       "7479                1.883893                  0.109894   \n",
       "\n",
       "      Smog Formation Potential  Ozone Depletion Potential  \\\n",
       "0                   102.488153               1.860000e-07   \n",
       "1                    40.624633              -3.110000e-06   \n",
       "2                   187.522827               3.400000e-07   \n",
       "3                    74.332177              -5.700000e-06   \n",
       "4                   324.558739               5.890000e-07   \n",
       "...                        ...                        ...   \n",
       "7475                 12.148219               4.480000e-07   \n",
       "7476                  2.997853               1.110000e-07   \n",
       "7477               1896.651205               7.000000e-05   \n",
       "7478                 46.162076               1.700000e-06   \n",
       "7479                 60.441580               2.230000e-06   \n",
       "\n",
       "               template_model  scenario  \n",
       "0     STR1_ENCO10_ENCT1_ENCR1   default  \n",
       "1     STR1_ENCO10_ENCT1_ENCR1   default  \n",
       "2     STR1_ENCO10_ENCT1_ENCR1   default  \n",
       "3     STR1_ENCO10_ENCT1_ENCR1   default  \n",
       "4     STR1_ENCO10_ENCT1_ENCR1   default  \n",
       "...                       ...       ...  \n",
       "7475   STR3_ENCO9_ENCT2_ENCR1   default  \n",
       "7476   STR3_ENCO9_ENCT2_ENCR1   default  \n",
       "7477   STR3_ENCO9_ENCT2_ENCR1   default  \n",
       "7478   STR3_ENCO9_ENCT2_ENCR1   default  \n",
       "7479   STR3_ENCO9_ENCT2_ENCR1   default  \n",
       "\n",
       "[7480 rows x 25 columns]"
      ]
     },
     "execution_count": 4,
     "metadata": {},
     "output_type": "execute_result"
    }
   ],
   "source": [
    "tm_impacts['Ozone Depletion Potential'] = tm_impacts['Ozone Depletion Potential'].fillna(0)"
   ]
  },
  {
   "cell_type": "code",
   "execution_count": 51,
   "metadata": {},
   "outputs": [],
   "source": [
    "example_impacts = tm_impacts[tm_impacts['template_model'] == 'STR1_ENCO4_ENCT1_ENCR1']\n",
    "example_impacts = example_impacts[example_impacts['Assembly'] != 'Operational energy']"
   ]
  },
  {
   "cell_type": "code",
   "execution_count": 52,
   "metadata": {},
   "outputs": [],
   "source": [
    "impacts = ['Global Warming Potential_fossil', 'Acidification Potential', 'Eutrophication Potential', 'Smog Formation Potential', 'Ozone Depletion Potential']"
   ]
  },
  {
   "cell_type": "code",
   "execution_count": 53,
   "metadata": {},
   "outputs": [],
   "source": [
    "df_to_graph = example_impacts.melt(\n",
    "    id_vars=['L3', 'Assembly', 'Component'],\n",
    "    value_vars=impacts\n",
    ")"
   ]
  },
  {
   "cell_type": "code",
   "execution_count": 54,
   "metadata": {},
   "outputs": [],
   "source": [
    "for impact in impacts:\n",
    "    temp_sum = df_to_graph[df_to_graph['variable'] == impact]['value'].sum().item()\n",
    "    df_to_graph.loc[df_to_graph['variable'] == impact, 'value'] /= temp_sum"
   ]
  },
  {
   "cell_type": "code",
   "execution_count": 59,
   "metadata": {},
   "outputs": [
    {
     "data": {
      "application/vnd.plotly.v1+json": {
       "config": {
        "plotlyServerURL": "https://plot.ly"
       },
       "data": [
        {
         "alignmentgroup": "True",
         "bingroup": "x",
         "histfunc": "sum",
         "hovertemplate": "L3=Floor Construction<br>variable=%{x}<br>sum of value=%{y}<extra></extra>",
         "legendgroup": "Floor Construction",
         "marker": {
          "color": "#636efa",
          "pattern": {
           "shape": ""
          }
         },
         "name": "Floor Construction",
         "offsetgroup": "Floor Construction",
         "orientation": "v",
         "showlegend": true,
         "type": "histogram",
         "x": [
          "Ozone Depletion Potential",
          "Ozone Depletion Potential",
          "Ozone Depletion Potential",
          "Ozone Depletion Potential",
          "Ozone Depletion Potential",
          "Ozone Depletion Potential",
          "Ozone Depletion Potential",
          "Ozone Depletion Potential",
          "Ozone Depletion Potential",
          "Ozone Depletion Potential",
          "Ozone Depletion Potential",
          "Ozone Depletion Potential",
          "Ozone Depletion Potential",
          "Ozone Depletion Potential",
          "Ozone Depletion Potential",
          "Acidification Potential",
          "Global Warming Potential_fossil",
          "Eutrophication Potential",
          "Smog Formation Potential",
          "Ozone Depletion Potential",
          "Acidification Potential",
          "Global Warming Potential_fossil",
          "Eutrophication Potential",
          "Smog Formation Potential",
          "Acidification Potential",
          "Global Warming Potential_fossil",
          "Eutrophication Potential",
          "Smog Formation Potential",
          "Acidification Potential",
          "Global Warming Potential_fossil",
          "Eutrophication Potential",
          "Ozone Depletion Potential",
          "Smog Formation Potential",
          "Ozone Depletion Potential",
          "Ozone Depletion Potential",
          "Ozone Depletion Potential",
          "Eutrophication Potential",
          "Smog Formation Potential",
          "Acidification Potential",
          "Acidification Potential",
          "Global Warming Potential_fossil",
          "Eutrophication Potential",
          "Smog Formation Potential",
          "Smog Formation Potential",
          "Global Warming Potential_fossil",
          "Acidification Potential",
          "Global Warming Potential_fossil",
          "Eutrophication Potential",
          "Ozone Depletion Potential",
          "Eutrophication Potential",
          "Acidification Potential",
          "Ozone Depletion Potential",
          "Global Warming Potential_fossil",
          "Eutrophication Potential",
          "Ozone Depletion Potential",
          "Smog Formation Potential",
          "Smog Formation Potential",
          "Global Warming Potential_fossil",
          "Eutrophication Potential",
          "Acidification Potential",
          "Smog Formation Potential",
          "Eutrophication Potential",
          "Global Warming Potential_fossil",
          "Smog Formation Potential",
          "Acidification Potential",
          "Global Warming Potential_fossil",
          "Acidification Potential",
          "Acidification Potential",
          "Global Warming Potential_fossil",
          "Ozone Depletion Potential",
          "Eutrophication Potential",
          "Global Warming Potential_fossil",
          "Ozone Depletion Potential",
          "Acidification Potential",
          "Eutrophication Potential",
          "Global Warming Potential_fossil",
          "Ozone Depletion Potential",
          "Ozone Depletion Potential",
          "Acidification Potential",
          "Smog Formation Potential",
          "Acidification Potential",
          "Global Warming Potential_fossil",
          "Acidification Potential",
          "Eutrophication Potential",
          "Ozone Depletion Potential",
          "Ozone Depletion Potential",
          "Smog Formation Potential",
          "Eutrophication Potential",
          "Smog Formation Potential",
          "Eutrophication Potential",
          "Global Warming Potential_fossil",
          "Smog Formation Potential",
          "Ozone Depletion Potential",
          "Acidification Potential",
          "Global Warming Potential_fossil",
          "Eutrophication Potential",
          "Acidification Potential",
          "Ozone Depletion Potential",
          "Smog Formation Potential",
          "Global Warming Potential_fossil",
          "Global Warming Potential_fossil",
          "Acidification Potential",
          "Eutrophication Potential",
          "Ozone Depletion Potential",
          "Ozone Depletion Potential",
          "Eutrophication Potential",
          "Smog Formation Potential",
          "Ozone Depletion Potential",
          "Ozone Depletion Potential",
          "Global Warming Potential_fossil",
          "Acidification Potential",
          "Smog Formation Potential",
          "Acidification Potential",
          "Eutrophication Potential",
          "Smog Formation Potential",
          "Eutrophication Potential",
          "Smog Formation Potential",
          "Ozone Depletion Potential",
          "Smog Formation Potential",
          "Smog Formation Potential",
          "Eutrophication Potential",
          "Eutrophication Potential",
          "Smog Formation Potential",
          "Eutrophication Potential",
          "Smog Formation Potential",
          "Acidification Potential",
          "Eutrophication Potential",
          "Acidification Potential",
          "Ozone Depletion Potential",
          "Smog Formation Potential",
          "Smog Formation Potential",
          "Global Warming Potential_fossil",
          "Global Warming Potential_fossil",
          "Smog Formation Potential",
          "Eutrophication Potential",
          "Acidification Potential",
          "Acidification Potential",
          "Smog Formation Potential",
          "Eutrophication Potential",
          "Global Warming Potential_fossil",
          "Smog Formation Potential",
          "Global Warming Potential_fossil",
          "Global Warming Potential_fossil",
          "Global Warming Potential_fossil",
          "Global Warming Potential_fossil",
          "Acidification Potential",
          "Acidification Potential",
          "Eutrophication Potential",
          "Acidification Potential",
          "Eutrophication Potential",
          "Eutrophication Potential",
          "Smog Formation Potential",
          "Smog Formation Potential",
          "Eutrophication Potential",
          "Eutrophication Potential",
          "Smog Formation Potential",
          "Global Warming Potential_fossil",
          "Global Warming Potential_fossil",
          "Acidification Potential",
          "Acidification Potential",
          "Smog Formation Potential",
          "Acidification Potential",
          "Global Warming Potential_fossil",
          "Acidification Potential",
          "Smog Formation Potential",
          "Acidification Potential",
          "Acidification Potential",
          "Eutrophication Potential",
          "Global Warming Potential_fossil",
          "Global Warming Potential_fossil",
          "Eutrophication Potential",
          "Smog Formation Potential",
          "Eutrophication Potential",
          "Smog Formation Potential",
          "Global Warming Potential_fossil",
          "Eutrophication Potential",
          "Ozone Depletion Potential",
          "Global Warming Potential_fossil",
          "Global Warming Potential_fossil",
          "Global Warming Potential_fossil",
          "Acidification Potential",
          "Acidification Potential",
          "Global Warming Potential_fossil",
          "Global Warming Potential_fossil",
          "Smog Formation Potential",
          "Acidification Potential",
          "Eutrophication Potential",
          "Acidification Potential",
          "Smog Formation Potential",
          "Eutrophication Potential",
          "Smog Formation Potential",
          "Eutrophication Potential",
          "Acidification Potential",
          "Smog Formation Potential",
          "Eutrophication Potential",
          "Acidification Potential",
          "Global Warming Potential_fossil",
          "Global Warming Potential_fossil",
          "Ozone Depletion Potential",
          "Ozone Depletion Potential"
         ],
         "xaxis": "x",
         "y": [
          -0.022224748198289585,
          -0.021207774343079428,
          -0.008274441273634218,
          -0.008007231439457889,
          -0.0006362332302924965,
          -0.00024021694318376117,
          1.0987372838760193e-10,
          2.8622654043896014e-10,
          5.755028152480002e-10,
          1.3949971941123428e-9,
          6.2724899096217985e-9,
          1.2711529913676841e-8,
          1.2583862904177365e-7,
          3.6738269619038223e-7,
          0.0000013102428683195665,
          0.0000022409705221066917,
          0.0000024224517452803136,
          0.0000026928338295586573,
          0.0000030346194772534407,
          0.000005571298030139863,
          0.000005837839938456723,
          0.000006310607572957766,
          0.000007014966382978801,
          0.000007905335035676727,
          0.000011737881869363314,
          0.000012688454461954568,
          0.000014104677001940452,
          0.00001589490115603318,
          0.000028452184487625515,
          0.00003075633672516664,
          0.00003418920693392072,
          0.00003799369476746127,
          0.00003852864299856502,
          0.00005044119691154355,
          0.00010141984311640971,
          0.00011100893521885484,
          0.00011946280749459128,
          0.00012720869141456267,
          0.00012782812540765458,
          0.00013589548508061324,
          0.000137881745889586,
          0.0001537289511520831,
          0.0001731693102003479,
          0.00017516406913725593,
          0.000176278787494125,
          0.0001833192399237743,
          0.0002178662907252097,
          0.00022241447263564442,
          0.00024583788788893707,
          0.00025387821813796583,
          0.0002590504031638385,
          0.00026720972430178394,
          0.00027942459257477545,
          0.00031153978552764147,
          0.00031272899788701214,
          0.00035093669315686973,
          0.0003521945056673876,
          0.0003641617802481839,
          0.0003947871629810288,
          0.00039782012322096973,
          0.0004016765729059269,
          0.00044719876415866337,
          0.0004592150301774179,
          0.00046022320250683617,
          0.0004775557597734382,
          0.0005003429368629788,
          0.000520326286507996,
          0.0005302105441641069,
          0.0006138621275064572,
          0.0006287901129561485,
          0.000661365415889876,
          0.0006708955404617795,
          0.0006960946541173184,
          0.0006976906427258134,
          0.0007205981790232322,
          0.0007322036922821521,
          0.0007584378138518638,
          0.0007598738953492251,
          0.0007998790067645698,
          0.0008537062446446418,
          0.0009090774988769559,
          0.0009233229813908849,
          0.0009601998604532683,
          0.0009662294981171272,
          0.0010088239382308709,
          0.0010169675827164575,
          0.0010463874988628713,
          0.0010839929965294995,
          0.0011401033500046396,
          0.0013297776585237996,
          0.0013596050140232917,
          0.0013637304107237628,
          0.0013996061738692305,
          0.001413906694675949,
          0.001460738555118198,
          0.00150324368525923,
          0.0015190794392124173,
          0.0015241636009745967,
          0.0015287319892618304,
          0.0017738091622650123,
          0.0017748342305017927,
          0.0019388766492568776,
          0.0019581147751154193,
          0.002028396862328194,
          0.0020609381657370135,
          0.002103768166383573,
          0.002103924222094698,
          0.0022142400236507664,
          0.0022201787043770967,
          0.002238100204157434,
          0.0023274883730015376,
          0.0024489885488465694,
          0.0025680092037104947,
          0.0030916766221932047,
          0.0030980555874131578,
          0.0032233310650871365,
          0.003328502907651257,
          0.003392592761806951,
          0.0034884768191393704,
          0.0035032813827451177,
          0.0037255225311855207,
          0.0037799090704400337,
          0.0038355785214355754,
          0.003982093583153045,
          0.004240289713818755,
          0.004344289292241228,
          0.004448289452712888,
          0.004529849502687109,
          0.00491675775777852,
          0.00492407099009702,
          0.0050998332391863944,
          0.005543868996801007,
          0.005553744785310553,
          0.0058323015883181995,
          0.005925448460409862,
          0.0059661896929697625,
          0.005985312961168548,
          0.006145505726517661,
          0.006165377549131647,
          0.006817709967213301,
          0.007043890113347751,
          0.007083508451600918,
          0.007262209690840324,
          0.007283235604963677,
          0.007407739474494295,
          0.007473008864707501,
          0.00749723794899014,
          0.007600092947647526,
          0.007956402464419395,
          0.008943975283173266,
          0.009026071738536355,
          0.010184519882107314,
          0.011935763010707876,
          0.012039613650098417,
          0.013159572099367628,
          0.01363887211743236,
          0.013708062409790204,
          0.014644073845643044,
          0.015025642392968764,
          0.015093214487320625,
          0.015340773416894538,
          0.015997580135291393,
          0.01621401749778558,
          0.016848166037336767,
          0.017074124892892832,
          0.01767368480547023,
          0.018181549977539117,
          0.01842233965856893,
          0.01965329363053054,
          0.020462070916881906,
          0.02167985993058999,
          0.022646028045331244,
          0.026252598903968166,
          0.027274608214475256,
          0.029422095523126718,
          0.0300648737051846,
          0.030650993893320135,
          0.03322782806915325,
          0.03547618324530026,
          0.03549668461003584,
          0.036421592427648385,
          0.03877753298513755,
          0.05379966036141199,
          0.05543868996801006,
          0.05800606498460657,
          0.0581801725138457,
          0.05938412093067341,
          0.05985312961168548,
          0.06145505726517659,
          0.06165377549131646,
          0.10313300897660542,
          0.10737912930327732,
          0.11030747647119267,
          0.116646031766364,
          0.11850896920819726,
          0.11932379385939522,
          0.13048003343698214,
          0.14815478948988592,
          0.3044489880559639,
          0.30650993893322903
         ],
         "yaxis": "y"
        },
        {
         "alignmentgroup": "True",
         "bingroup": "x",
         "histfunc": "sum",
         "hovertemplate": "L3=Standard Foundations<br>variable=%{x}<br>sum of value=%{y}<extra></extra>",
         "legendgroup": "Standard Foundations",
         "marker": {
          "color": "#EF553B",
          "pattern": {
           "shape": ""
          }
         },
         "name": "Standard Foundations",
         "offsetgroup": "Standard Foundations",
         "orientation": "v",
         "showlegend": true,
         "type": "histogram",
         "x": [
          "Ozone Depletion Potential",
          "Ozone Depletion Potential",
          "Ozone Depletion Potential",
          "Ozone Depletion Potential",
          "Ozone Depletion Potential",
          "Ozone Depletion Potential",
          "Ozone Depletion Potential",
          "Ozone Depletion Potential",
          "Ozone Depletion Potential",
          "Ozone Depletion Potential",
          "Ozone Depletion Potential",
          "Ozone Depletion Potential",
          "Ozone Depletion Potential",
          "Ozone Depletion Potential",
          "Ozone Depletion Potential",
          "Ozone Depletion Potential",
          "Ozone Depletion Potential",
          "Acidification Potential",
          "Global Warming Potential_fossil",
          "Eutrophication Potential",
          "Smog Formation Potential",
          "Ozone Depletion Potential",
          "Ozone Depletion Potential",
          "Ozone Depletion Potential",
          "Ozone Depletion Potential",
          "Acidification Potential",
          "Eutrophication Potential",
          "Global Warming Potential_fossil",
          "Smog Formation Potential",
          "Acidification Potential",
          "Eutrophication Potential",
          "Smog Formation Potential",
          "Global Warming Potential_fossil",
          "Acidification Potential",
          "Acidification Potential",
          "Global Warming Potential_fossil",
          "Global Warming Potential_fossil",
          "Eutrophication Potential",
          "Eutrophication Potential",
          "Ozone Depletion Potential",
          "Smog Formation Potential",
          "Eutrophication Potential",
          "Smog Formation Potential",
          "Smog Formation Potential",
          "Global Warming Potential_fossil",
          "Acidification Potential",
          "Acidification Potential",
          "Global Warming Potential_fossil",
          "Global Warming Potential_fossil",
          "Acidification Potential",
          "Eutrophication Potential",
          "Eutrophication Potential",
          "Ozone Depletion Potential",
          "Ozone Depletion Potential",
          "Acidification Potential",
          "Smog Formation Potential",
          "Global Warming Potential_fossil",
          "Acidification Potential",
          "Eutrophication Potential",
          "Acidification Potential",
          "Ozone Depletion Potential",
          "Global Warming Potential_fossil",
          "Smog Formation Potential",
          "Smog Formation Potential",
          "Global Warming Potential_fossil",
          "Eutrophication Potential",
          "Acidification Potential",
          "Eutrophication Potential",
          "Ozone Depletion Potential",
          "Ozone Depletion Potential",
          "Acidification Potential",
          "Global Warming Potential_fossil",
          "Smog Formation Potential",
          "Global Warming Potential_fossil",
          "Acidification Potential",
          "Eutrophication Potential",
          "Ozone Depletion Potential",
          "Smog Formation Potential",
          "Smog Formation Potential",
          "Eutrophication Potential",
          "Eutrophication Potential",
          "Ozone Depletion Potential",
          "Ozone Depletion Potential",
          "Acidification Potential",
          "Acidification Potential",
          "Global Warming Potential_fossil",
          "Smog Formation Potential",
          "Eutrophication Potential",
          "Smog Formation Potential",
          "Smog Formation Potential",
          "Smog Formation Potential",
          "Eutrophication Potential",
          "Eutrophication Potential",
          "Smog Formation Potential",
          "Eutrophication Potential",
          "Smog Formation Potential",
          "Acidification Potential",
          "Global Warming Potential_fossil",
          "Acidification Potential",
          "Acidification Potential",
          "Global Warming Potential_fossil",
          "Eutrophication Potential",
          "Smog Formation Potential",
          "Global Warming Potential_fossil",
          "Global Warming Potential_fossil",
          "Acidification Potential",
          "Eutrophication Potential",
          "Global Warming Potential_fossil",
          "Smog Formation Potential",
          "Eutrophication Potential",
          "Acidification Potential",
          "Eutrophication Potential",
          "Smog Formation Potential",
          "Smog Formation Potential",
          "Acidification Potential",
          "Acidification Potential",
          "Global Warming Potential_fossil",
          "Acidification Potential",
          "Smog Formation Potential",
          "Global Warming Potential_fossil",
          "Global Warming Potential_fossil",
          "Eutrophication Potential",
          "Eutrophication Potential",
          "Acidification Potential",
          "Smog Formation Potential",
          "Global Warming Potential_fossil",
          "Eutrophication Potential",
          "Smog Formation Potential",
          "Eutrophication Potential",
          "Smog Formation Potential",
          "Acidification Potential",
          "Global Warming Potential_fossil",
          "Acidification Potential",
          "Acidification Potential",
          "Smog Formation Potential",
          "Global Warming Potential_fossil",
          "Global Warming Potential_fossil",
          "Acidification Potential",
          "Eutrophication Potential",
          "Smog Formation Potential",
          "Global Warming Potential_fossil",
          "Eutrophication Potential",
          "Acidification Potential",
          "Global Warming Potential_fossil",
          "Smog Formation Potential",
          "Eutrophication Potential",
          "Smog Formation Potential",
          "Global Warming Potential_fossil",
          "Eutrophication Potential",
          "Global Warming Potential_fossil"
         ],
         "xaxis": "x",
         "y": [
          -0.007871130197549507,
          -0.007510958124937934,
          -0.004301794842554312,
          -0.004104950637782162,
          -0.0017374927416383943,
          -0.0016813831951420378,
          -0.00022532874374815842,
          -0.00012314851913348412,
          -0.00005044149585426113,
          2.3071624929952448e-11,
          1.2140954085257818e-9,
          2.2214688013989897e-9,
          2.435772123214926e-8,
          4.4567382915230886e-8,
          7.713585504559192e-8,
          2.0610379504126305e-7,
          3.7710862466733825e-7,
          4.7056591347053454e-7,
          5.086739013793463e-7,
          5.654495667526226e-7,
          6.372187729657495e-7,
          6.526880042319316e-7,
          0.000007351803632903902,
          0.0000134516133304274,
          0.000023281638456508964,
          0.000024742254252147335,
          0.00002508516938527157,
          0.00002668822062946267,
          0.00002671167402086653,
          0.0000285357537917831,
          0.00002975558612934969,
          0.000033518438043130455,
          0.000037015564392462775,
          0.00003849394034436475,
          0.00004527168582588346,
          0.00004574823680106595,
          0.00004883228210639037,
          0.000053310132574191794,
          0.00005444473785956764,
          0.00005610952342473169,
          0.00006132974712000003,
          0.00007641451621706739,
          0.00008434528771556609,
          0.00008908023529913832,
          0.00009684795415672884,
          0.00010071599423030845,
          0.00010262689880682679,
          0.00011881839607748286,
          0.00012985771312690422,
          0.0001350441400639711,
          0.00013948125228872003,
          0.00013981805923830536,
          0.0001468056111418046,
          0.000147036072658078,
          0.0001487164830800233,
          0.00016299292637849934,
          0.00017720294178269496,
          0.00018428030429323844,
          0.00018702218961670774,
          0.00018777968542070775,
          0.00019684299067609985,
          0.00021740578052173012,
          0.00022068199396890943,
          0.0002247323388168121,
          0.00023760476837872172,
          0.00024260771035820524,
          0.00024709453792279675,
          0.0002552091930522023,
          0.0002686105906009654,
          0.00026903226660854795,
          0.00027210691772290314,
          0.0002874393690813513,
          0.00029589947784247335,
          0.0003066973992392799,
          0.00031894668050752795,
          0.0003422004205644108,
          0.00036016985114209195,
          0.00040378239138100285,
          0.0004111933173890136,
          0.00044170821874419644,
          0.00044389992900692617,
          0.0004649029452709017,
          0.0004656327691301793,
          0.0004709542806742554,
          0.0004970719466818838,
          0.0005259285260992618,
          0.0005414166413622078,
          0.0005984346609365568,
          0.0006752405563573355,
          0.0006988541389286588,
          0.0007116807416348313,
          0.0007682883386658341,
          0.0007822967307014437,
          0.0008054066275403526,
          0.0008361723128423881,
          0.0008903891340288846,
          0.0009094937729622746,
          0.0009102609105564145,
          0.0009122272868016013,
          0.0009511917930594366,
          0.0010750003262526842,
          0.001094957382487152,
          0.001235489319721372,
          0.0014874169884083565,
          0.0015249412267021984,
          0.0015741238378193215,
          0.0018951185466123785,
          0.0019669307616045017,
          0.002138346899517759,
          0.0023303727648228555,
          0.0023765417206882736,
          0.002547150540568913,
          0.0026399232607523405,
          0.002969341176637944,
          0.0029743296616004653,
          0.003261110232578108,
          0.003404303241238561,
          0.0034208966268942263,
          0.003598724226009996,
          0.0038040672688263947,
          0.003960613202582762,
          0.004114238293938828,
          0.004263956816186203,
          0.00434836427720255,
          0.0044946467763362415,
          0.004576939101217612,
          0.004660601974610181,
          0.004830351157467771,
          0.0048521542071641045,
          0.005433097545949979,
          0.005442138354458063,
          0.005748787381627025,
          0.005966956623608246,
          0.006259322847356925,
          0.006584594636677896,
          0.006960422300239224,
          0.007246859350724338,
          0.007526015095158259,
          0.00752783200459917,
          0.008223866347780271,
          0.008374436818598039,
          0.008877998580138526,
          0.009419085613485109,
          0.010518570521985234,
          0.011396413794250205,
          0.013028940007960102,
          0.014233614832696622,
          0.014494217570650449,
          0.01536576677331668,
          0.01820521821112829
         ],
         "yaxis": "y"
        },
        {
         "alignmentgroup": "True",
         "bingroup": "x",
         "histfunc": "sum",
         "hovertemplate": "L3=Exterior Walls<br>variable=%{x}<br>sum of value=%{y}<extra></extra>",
         "legendgroup": "Exterior Walls",
         "marker": {
          "color": "#00cc96",
          "pattern": {
           "shape": ""
          }
         },
         "name": "Exterior Walls",
         "offsetgroup": "Exterior Walls",
         "orientation": "v",
         "showlegend": true,
         "type": "histogram",
         "x": [
          "Ozone Depletion Potential",
          "Ozone Depletion Potential",
          "Ozone Depletion Potential",
          "Ozone Depletion Potential",
          "Ozone Depletion Potential",
          "Ozone Depletion Potential",
          "Ozone Depletion Potential",
          "Ozone Depletion Potential",
          "Ozone Depletion Potential",
          "Ozone Depletion Potential",
          "Ozone Depletion Potential",
          "Ozone Depletion Potential",
          "Ozone Depletion Potential",
          "Acidification Potential",
          "Global Warming Potential_fossil",
          "Eutrophication Potential",
          "Smog Formation Potential",
          "Acidification Potential",
          "Global Warming Potential_fossil",
          "Ozone Depletion Potential",
          "Eutrophication Potential",
          "Smog Formation Potential",
          "Ozone Depletion Potential",
          "Global Warming Potential_fossil",
          "Acidification Potential",
          "Ozone Depletion Potential",
          "Acidification Potential",
          "Eutrophication Potential",
          "Ozone Depletion Potential",
          "Ozone Depletion Potential",
          "Eutrophication Potential",
          "Global Warming Potential_fossil",
          "Ozone Depletion Potential",
          "Smog Formation Potential",
          "Acidification Potential",
          "Global Warming Potential_fossil",
          "Smog Formation Potential",
          "Global Warming Potential_fossil",
          "Eutrophication Potential",
          "Acidification Potential",
          "Smog Formation Potential",
          "Global Warming Potential_fossil",
          "Eutrophication Potential",
          "Acidification Potential",
          "Ozone Depletion Potential",
          "Acidification Potential",
          "Ozone Depletion Potential",
          "Global Warming Potential_fossil",
          "Eutrophication Potential",
          "Eutrophication Potential",
          "Ozone Depletion Potential",
          "Smog Formation Potential",
          "Acidification Potential",
          "Smog Formation Potential",
          "Global Warming Potential_fossil",
          "Acidification Potential",
          "Global Warming Potential_fossil",
          "Eutrophication Potential",
          "Acidification Potential",
          "Eutrophication Potential",
          "Smog Formation Potential",
          "Acidification Potential",
          "Smog Formation Potential",
          "Smog Formation Potential",
          "Global Warming Potential_fossil",
          "Smog Formation Potential",
          "Global Warming Potential_fossil",
          "Acidification Potential",
          "Eutrophication Potential",
          "Smog Formation Potential",
          "Eutrophication Potential",
          "Global Warming Potential_fossil",
          "Global Warming Potential_fossil",
          "Global Warming Potential_fossil",
          "Acidification Potential",
          "Acidification Potential",
          "Acidification Potential",
          "Eutrophication Potential",
          "Smog Formation Potential",
          "Ozone Depletion Potential",
          "Ozone Depletion Potential",
          "Acidification Potential",
          "Global Warming Potential_fossil",
          "Global Warming Potential_fossil",
          "Acidification Potential",
          "Acidification Potential",
          "Eutrophication Potential",
          "Eutrophication Potential",
          "Eutrophication Potential",
          "Eutrophication Potential",
          "Ozone Depletion Potential",
          "Ozone Depletion Potential",
          "Ozone Depletion Potential",
          "Ozone Depletion Potential",
          "Global Warming Potential_fossil",
          "Smog Formation Potential",
          "Acidification Potential",
          "Acidification Potential",
          "Eutrophication Potential",
          "Eutrophication Potential",
          "Global Warming Potential_fossil",
          "Smog Formation Potential",
          "Global Warming Potential_fossil",
          "Global Warming Potential_fossil",
          "Acidification Potential",
          "Eutrophication Potential",
          "Smog Formation Potential",
          "Ozone Depletion Potential",
          "Global Warming Potential_fossil",
          "Eutrophication Potential",
          "Eutrophication Potential",
          "Smog Formation Potential",
          "Smog Formation Potential",
          "Smog Formation Potential",
          "Smog Formation Potential",
          "Smog Formation Potential",
          "Smog Formation Potential",
          "Acidification Potential",
          "Acidification Potential",
          "Acidification Potential",
          "Smog Formation Potential",
          "Smog Formation Potential",
          "Eutrophication Potential",
          "Global Warming Potential_fossil",
          "Ozone Depletion Potential",
          "Acidification Potential",
          "Smog Formation Potential",
          "Global Warming Potential_fossil",
          "Acidification Potential",
          "Acidification Potential",
          "Smog Formation Potential",
          "Eutrophication Potential",
          "Eutrophication Potential",
          "Eutrophication Potential",
          "Smog Formation Potential",
          "Acidification Potential",
          "Eutrophication Potential",
          "Smog Formation Potential",
          "Eutrophication Potential",
          "Global Warming Potential_fossil",
          "Acidification Potential",
          "Smog Formation Potential",
          "Global Warming Potential_fossil",
          "Global Warming Potential_fossil",
          "Smog Formation Potential",
          "Eutrophication Potential",
          "Global Warming Potential_fossil",
          "Eutrophication Potential",
          "Smog Formation Potential",
          "Global Warming Potential_fossil",
          "Smog Formation Potential",
          "Ozone Depletion Potential",
          "Global Warming Potential_fossil",
          "Smog Formation Potential",
          "Acidification Potential",
          "Acidification Potential",
          "Eutrophication Potential",
          "Global Warming Potential_fossil",
          "Eutrophication Potential",
          "Smog Formation Potential",
          "Eutrophication Potential",
          "Acidification Potential",
          "Global Warming Potential_fossil",
          "Global Warming Potential_fossil",
          "Global Warming Potential_fossil",
          "Smog Formation Potential",
          "Global Warming Potential_fossil",
          "Ozone Depletion Potential",
          "Global Warming Potential_fossil",
          "Acidification Potential",
          "Acidification Potential",
          "Acidification Potential",
          "Ozone Depletion Potential",
          "Eutrophication Potential",
          "Smog Formation Potential",
          "Acidification Potential",
          "Eutrophication Potential",
          "Smog Formation Potential",
          "Acidification Potential",
          "Eutrophication Potential",
          "Ozone Depletion Potential",
          "Ozone Depletion Potential",
          "Eutrophication Potential",
          "Global Warming Potential_fossil",
          "Global Warming Potential_fossil",
          "Eutrophication Potential",
          "Smog Formation Potential",
          "Acidification Potential",
          "Eutrophication Potential",
          "Acidification Potential",
          "Smog Formation Potential",
          "Eutrophication Potential",
          "Global Warming Potential_fossil",
          "Global Warming Potential_fossil",
          "Global Warming Potential_fossil",
          "Smog Formation Potential",
          "Eutrophication Potential",
          "Acidification Potential",
          "Ozone Depletion Potential",
          "Ozone Depletion Potential",
          "Smog Formation Potential",
          "Ozone Depletion Potential",
          "Ozone Depletion Potential",
          "Ozone Depletion Potential",
          "Ozone Depletion Potential",
          "Ozone Depletion Potential",
          "Ozone Depletion Potential",
          "Global Warming Potential_fossil",
          "Global Warming Potential_fossil",
          "Eutrophication Potential",
          "Eutrophication Potential",
          "Acidification Potential",
          "Acidification Potential",
          "Smog Formation Potential",
          "Smog Formation Potential",
          "Global Warming Potential_fossil",
          "Global Warming Potential_fossil",
          "Acidification Potential",
          "Acidification Potential",
          "Eutrophication Potential",
          "Eutrophication Potential",
          "Smog Formation Potential",
          "Smog Formation Potential",
          "Ozone Depletion Potential",
          "Ozone Depletion Potential"
         ],
         "xaxis": "x",
         "y": [
          9.594489956290973e-11,
          1.628569702051342e-10,
          1.1645051899870888e-9,
          2.149775997658736e-9,
          3.011414152398277e-9,
          3.261842620350348e-9,
          9.68215083571231e-9,
          9.80469350680969e-9,
          2.6975072938798496e-8,
          3.199553876140616e-8,
          3.718859031443391e-8,
          8.989429807801092e-8,
          0.0000017747812818832266,
          0.0000019568799095310343,
          0.0000021153545329507665,
          0.000002351459945048743,
          0.00000264991700226662,
          0.0000033175444809672663,
          0.0000035950432630114864,
          0.0000037734016275344933,
          0.000003996304213788939,
          0.0000044979511488494455,
          0.000004555563228929592,
          0.000011690364529806622,
          0.000012157269575656823,
          0.000014225031783773156,
          0.00001641923252723981,
          0.00001683656302837628,
          0.000017720674888923263,
          0.000017747812818832265,
          0.00002051284499169007,
          0.00002078770111684335,
          0.00002113986141915146,
          0.00002242243537459992,
          0.000023731646859278815,
          0.000025598129452006583,
          0.000026638177100635157,
          0.000027562402600404676,
          0.000028540207166099116,
          0.000028663225831115056,
          0.000032149363869913055,
          0.000038609515296176344,
          0.00003969560807210105,
          0.000040151552540922,
          0.00004178008088576377,
          0.00004379289070259148,
          0.00004555563228929592,
          0.000047455983662424706,
          0.000052752785879073466,
          0.000055605754304898816,
          0.000058525691516119756,
          0.000059374722532651125,
          0.00006134524293686426,
          0.0000628048988478148,
          0.000066476517075568,
          0.0000665649485686481,
          0.00007180024970581395,
          0.00007389629717128127,
          0.00007402536363022695,
          0.000080138846484595,
          0.00008317233047734966,
          0.00008490788087964125,
          0.00008499988008129636,
          0.00008797733412049901,
          0.00008959645322087927,
          0.00009042423980156096,
          0.00009294670607530425,
          0.00009665893300809718,
          0.00011065310739566644,
          0.00012060322891790562,
          0.00012251549502760982,
          0.00012413541674220063,
          0.00012455362225589323,
          0.00012570654342711725,
          0.00012909329913311096,
          0.00012952820748477305,
          0.00013072717552741324,
          0.00013386264141950673,
          0.0001349596332155334,
          0.00014089195902807495,
          0.00014093240946100975,
          0.00014871751121577398,
          0.00015393170696393504,
          0.0001565244420808262,
          0.00016007963250676537,
          0.0001641923252723981,
          0.00017878088939869775,
          0.0001793831925580344,
          0.00018104363949419025,
          0.00018429558267473613,
          0.00018816892806728644,
          0.0001888028590217923,
          0.0001905504983871625,
          0.00019059229861943073,
          0.00019259160337561533,
          0.00019308822549651461,
          0.0001972342112741659,
          0.0001997305168462886,
          0.00020512844991690135,
          0.00020665894530534585,
          0.00020787701116843345,
          0.0002117924390673892,
          0.00021373203179173006,
          0.00021643714293069548,
          0.00021645671776445073,
          0.00022169376153805112,
          0.0002242243537459992,
          0.00023333521613034077,
          0.00023457007820170054,
          0.00023758774423078465,
          0.00024059478649774183,
          0.00026741159079633216,
          0.00027079610020695955,
          0.00028286040244585855,
          0.000283813343862681,
          0.0002864404405852711,
          0.0003144523398878623,
          0.0003302785426247677,
          0.0003316838826240584,
          0.0003455842591532926,
          0.00035075553555695703,
          0.00036419723650663044,
          0.0003643959873169682,
          0.00038916868102167987,
          0.0004913080276253068,
          0.0004935024242015129,
          0.0005018048472504207,
          0.0005078746825303198,
          0.0005469144101381526,
          0.0005483154312903392,
          0.0005629907149040539,
          0.0005648111755980567,
          0.0006027684789466306,
          0.0007129382452685124,
          0.0007278191794324977,
          0.0007766226922627061,
          0.0007860344133089003,
          0.0008040215261193706,
          0.0008167699668507321,
          0.0008209461459459632,
          0.0008490788087964125,
          0.0008499988008129636,
          0.0008787493247577231,
          0.0008959645322087927,
          0.0009214337772988611,
          0.0010140826800054898,
          0.0010434962805388412,
          0.0011065310739566644,
          0.0011784466675574853,
          0.001178809439176109,
          0.0013495963321553338,
          0.001450140498389704,
          0.0015209531255339218,
          0.0015460769393435582,
          0.0018344874430314512,
          0.0018848983737531123,
          0.0019370874015772785,
          0.001978768996658949,
          0.0020665894530534587,
          0.0020963489325857487,
          0.0022085753949527983,
          0.0022112258841603893,
          0.002240614749645261,
          0.0022565904249439357,
          0.002345700782017005,
          0.002492034261703889,
          0.002594457873477866,
          0.0028079422154081947,
          0.0032317252615075296,
          0.0033543457960551397,
          0.0033607981255360385,
          0.0034558425915329257,
          0.0035109287608680482,
          0.004336553001493933,
          0.0043672733742436244,
          0.004572463867233449,
          0.004654358374970826,
          0.004720678826802848,
          0.004734500379649745,
          0.004752921635123416,
          0.004898765350171216,
          0.0049130802762530675,
          0.004919802118038875,
          0.0049285950735952965,
          0.005078746825303196,
          0.005143847339521974,
          0.005313944441307944,
          0.005329894458559341,
          0.0054401883562564335,
          0.005483154312903393,
          0.0056299071490405386,
          0.005648111755980566,
          0.005784172551037253,
          0.005940219612534138,
          0.006014348431466865,
          0.007363950853469072,
          0.01111038845230837,
          0.012087826421656175,
          0.014442876280966768,
          0.01450140498389452,
          0.014595939479284692,
          0.018419051706212917,
          0.018652387018284915,
          0.0232180131289022,
          0.02340619173911886,
          0.02789061813055497,
          0.02807942215408052,
          0.054932990056502165,
          0.06014348431466864,
          0.1042409507531601,
          0.11110388452308372,
          0.11568297864799425,
          0.12087826421656174,
          0.13610340967767395,
          0.14595939479284692,
          null,
          null,
          null,
          null,
          null,
          null,
          null,
          null,
          null,
          null
         ],
         "yaxis": "y"
        },
        {
         "alignmentgroup": "True",
         "bingroup": "x",
         "histfunc": "sum",
         "hovertemplate": "L3=Roofing<br>variable=%{x}<br>sum of value=%{y}<extra></extra>",
         "legendgroup": "Roofing",
         "marker": {
          "color": "#ab63fa",
          "pattern": {
           "shape": ""
          }
         },
         "name": "Roofing",
         "offsetgroup": "Roofing",
         "orientation": "v",
         "showlegend": true,
         "type": "histogram",
         "x": [
          "Ozone Depletion Potential",
          "Ozone Depletion Potential",
          "Ozone Depletion Potential",
          "Ozone Depletion Potential",
          "Global Warming Potential_fossil",
          "Acidification Potential",
          "Global Warming Potential_fossil",
          "Acidification Potential",
          "Eutrophication Potential",
          "Ozone Depletion Potential",
          "Global Warming Potential_fossil",
          "Global Warming Potential_fossil",
          "Eutrophication Potential",
          "Ozone Depletion Potential",
          "Smog Formation Potential",
          "Smog Formation Potential",
          "Smog Formation Potential",
          "Smog Formation Potential",
          "Ozone Depletion Potential",
          "Acidification Potential",
          "Acidification Potential",
          "Smog Formation Potential",
          "Smog Formation Potential",
          "Acidification Potential",
          "Acidification Potential",
          "Global Warming Potential_fossil",
          "Global Warming Potential_fossil",
          "Eutrophication Potential",
          "Eutrophication Potential",
          "Eutrophication Potential",
          "Eutrophication Potential",
          "Smog Formation Potential",
          "Smog Formation Potential",
          "Acidification Potential",
          "Acidification Potential",
          "Global Warming Potential_fossil",
          "Eutrophication Potential",
          "Global Warming Potential_fossil",
          "Eutrophication Potential",
          "Ozone Depletion Potential",
          "Smog Formation Potential",
          "Smog Formation Potential",
          "Acidification Potential",
          "Acidification Potential",
          "Global Warming Potential_fossil",
          "Global Warming Potential_fossil",
          "Eutrophication Potential",
          "Eutrophication Potential",
          "Ozone Depletion Potential",
          "Ozone Depletion Potential"
         ],
         "xaxis": "x",
         "y": [
          3.121158633302719e-9,
          3.464790039983101e-9,
          3.370568308364277e-7,
          0.000010151610225091632,
          0.00004442227381452334,
          0.000046196468600259706,
          0.0000581635983186667,
          0.00006048661206819937,
          0.00006397733886185181,
          0.00006733687987973447,
          0.00006889911007991562,
          0.00007648472199440352,
          0.00008376771199499896,
          0.00008816647364135408,
          0.00010122254050051888,
          0.00012470611058245065,
          0.00013253412490880453,
          0.00013843592737030835,
          0.00020303220450183267,
          0.00021767823759739273,
          0.00024164404253635734,
          0.00044928197412009524,
          0.0004562430951299308,
          0.0004770922854264263,
          0.000553816696473921,
          0.0007065125804946598,
          0.0008427369583735019,
          0.0011487205273737553,
          0.00118371203681682,
          0.0019705010997121022,
          0.0021874481198136705,
          0.00273797292530938,
          0.002801962166328711,
          0.002892774725039558,
          0.003413946460160548,
          0.004583021161565816,
          0.005406711390482846,
          0.005497339393347753,
          0.005837144767071699,
          0.008115120531847477,
          0.008985639482401905,
          0.009124861902598615,
          0.009541845708528526,
          0.011076333929478419,
          0.014130251609893197,
          0.01685473916747004,
          0.022974410547475108,
          0.0236742407363364,
          0.05401263395085052,
          0.16230241063694953
         ],
         "yaxis": "y"
        },
        {
         "alignmentgroup": "True",
         "bingroup": "x",
         "histfunc": "sum",
         "hovertemplate": "L3=Exterior Windows<br>variable=%{x}<br>sum of value=%{y}<extra></extra>",
         "legendgroup": "Exterior Windows",
         "marker": {
          "color": "#FFA15A",
          "pattern": {
           "shape": ""
          }
         },
         "name": "Exterior Windows",
         "offsetgroup": "Exterior Windows",
         "orientation": "v",
         "showlegend": true,
         "type": "histogram",
         "x": [
          "Ozone Depletion Potential",
          "Ozone Depletion Potential",
          "Ozone Depletion Potential",
          "Global Warming Potential_fossil",
          "Smog Formation Potential",
          "Acidification Potential",
          "Eutrophication Potential",
          "Acidification Potential",
          "Global Warming Potential_fossil",
          "Eutrophication Potential",
          "Smog Formation Potential",
          "Global Warming Potential_fossil",
          "Acidification Potential",
          "Eutrophication Potential",
          "Ozone Depletion Potential",
          "Smog Formation Potential",
          "Ozone Depletion Potential",
          "Global Warming Potential_fossil",
          "Smog Formation Potential",
          "Acidification Potential",
          "Eutrophication Potential",
          "Global Warming Potential_fossil",
          "Smog Formation Potential",
          "Acidification Potential",
          "Eutrophication Potential"
         ],
         "xaxis": "x",
         "y": [
          1.1308160899725064e-8,
          7.883563346656287e-7,
          0.00001802401069251277,
          0.00008904636788546028,
          0.00013095386121430967,
          0.00013608343255128817,
          0.0001416634695363093,
          0.00023035751393089607,
          0.0002496259607949214,
          0.0002774879760863363,
          0.00031232040757128867,
          0.0011885200361172973,
          0.0012359887014905928,
          0.0017117167259888635,
          0.0018016014047557117,
          0.0027082138567213316,
          0.0036048021385025543,
          0.007466490791633809,
          0.010074851857138346,
          0.012141997039707328,
          0.012177142251555728,
          0.01780927357709205,
          0.02619077224286193,
          0.027216686510257635,
          0.02833269390726186
         ],
         "yaxis": "y"
        }
       ],
       "layout": {
        "barmode": "relative",
        "legend": {
         "title": {
          "text": "L3"
         },
         "tracegroupgap": 0
        },
        "margin": {
         "t": 60
        },
        "template": {
         "data": {
          "bar": [
           {
            "error_x": {
             "color": "#2a3f5f"
            },
            "error_y": {
             "color": "#2a3f5f"
            },
            "marker": {
             "line": {
              "color": "#E5ECF6",
              "width": 0.5
             },
             "pattern": {
              "fillmode": "overlay",
              "size": 10,
              "solidity": 0.2
             }
            },
            "type": "bar"
           }
          ],
          "barpolar": [
           {
            "marker": {
             "line": {
              "color": "#E5ECF6",
              "width": 0.5
             },
             "pattern": {
              "fillmode": "overlay",
              "size": 10,
              "solidity": 0.2
             }
            },
            "type": "barpolar"
           }
          ],
          "carpet": [
           {
            "aaxis": {
             "endlinecolor": "#2a3f5f",
             "gridcolor": "white",
             "linecolor": "white",
             "minorgridcolor": "white",
             "startlinecolor": "#2a3f5f"
            },
            "baxis": {
             "endlinecolor": "#2a3f5f",
             "gridcolor": "white",
             "linecolor": "white",
             "minorgridcolor": "white",
             "startlinecolor": "#2a3f5f"
            },
            "type": "carpet"
           }
          ],
          "choropleth": [
           {
            "colorbar": {
             "outlinewidth": 0,
             "ticks": ""
            },
            "type": "choropleth"
           }
          ],
          "contour": [
           {
            "colorbar": {
             "outlinewidth": 0,
             "ticks": ""
            },
            "colorscale": [
             [
              0,
              "#0d0887"
             ],
             [
              0.1111111111111111,
              "#46039f"
             ],
             [
              0.2222222222222222,
              "#7201a8"
             ],
             [
              0.3333333333333333,
              "#9c179e"
             ],
             [
              0.4444444444444444,
              "#bd3786"
             ],
             [
              0.5555555555555556,
              "#d8576b"
             ],
             [
              0.6666666666666666,
              "#ed7953"
             ],
             [
              0.7777777777777778,
              "#fb9f3a"
             ],
             [
              0.8888888888888888,
              "#fdca26"
             ],
             [
              1,
              "#f0f921"
             ]
            ],
            "type": "contour"
           }
          ],
          "contourcarpet": [
           {
            "colorbar": {
             "outlinewidth": 0,
             "ticks": ""
            },
            "type": "contourcarpet"
           }
          ],
          "heatmap": [
           {
            "colorbar": {
             "outlinewidth": 0,
             "ticks": ""
            },
            "colorscale": [
             [
              0,
              "#0d0887"
             ],
             [
              0.1111111111111111,
              "#46039f"
             ],
             [
              0.2222222222222222,
              "#7201a8"
             ],
             [
              0.3333333333333333,
              "#9c179e"
             ],
             [
              0.4444444444444444,
              "#bd3786"
             ],
             [
              0.5555555555555556,
              "#d8576b"
             ],
             [
              0.6666666666666666,
              "#ed7953"
             ],
             [
              0.7777777777777778,
              "#fb9f3a"
             ],
             [
              0.8888888888888888,
              "#fdca26"
             ],
             [
              1,
              "#f0f921"
             ]
            ],
            "type": "heatmap"
           }
          ],
          "heatmapgl": [
           {
            "colorbar": {
             "outlinewidth": 0,
             "ticks": ""
            },
            "colorscale": [
             [
              0,
              "#0d0887"
             ],
             [
              0.1111111111111111,
              "#46039f"
             ],
             [
              0.2222222222222222,
              "#7201a8"
             ],
             [
              0.3333333333333333,
              "#9c179e"
             ],
             [
              0.4444444444444444,
              "#bd3786"
             ],
             [
              0.5555555555555556,
              "#d8576b"
             ],
             [
              0.6666666666666666,
              "#ed7953"
             ],
             [
              0.7777777777777778,
              "#fb9f3a"
             ],
             [
              0.8888888888888888,
              "#fdca26"
             ],
             [
              1,
              "#f0f921"
             ]
            ],
            "type": "heatmapgl"
           }
          ],
          "histogram": [
           {
            "marker": {
             "pattern": {
              "fillmode": "overlay",
              "size": 10,
              "solidity": 0.2
             }
            },
            "type": "histogram"
           }
          ],
          "histogram2d": [
           {
            "colorbar": {
             "outlinewidth": 0,
             "ticks": ""
            },
            "colorscale": [
             [
              0,
              "#0d0887"
             ],
             [
              0.1111111111111111,
              "#46039f"
             ],
             [
              0.2222222222222222,
              "#7201a8"
             ],
             [
              0.3333333333333333,
              "#9c179e"
             ],
             [
              0.4444444444444444,
              "#bd3786"
             ],
             [
              0.5555555555555556,
              "#d8576b"
             ],
             [
              0.6666666666666666,
              "#ed7953"
             ],
             [
              0.7777777777777778,
              "#fb9f3a"
             ],
             [
              0.8888888888888888,
              "#fdca26"
             ],
             [
              1,
              "#f0f921"
             ]
            ],
            "type": "histogram2d"
           }
          ],
          "histogram2dcontour": [
           {
            "colorbar": {
             "outlinewidth": 0,
             "ticks": ""
            },
            "colorscale": [
             [
              0,
              "#0d0887"
             ],
             [
              0.1111111111111111,
              "#46039f"
             ],
             [
              0.2222222222222222,
              "#7201a8"
             ],
             [
              0.3333333333333333,
              "#9c179e"
             ],
             [
              0.4444444444444444,
              "#bd3786"
             ],
             [
              0.5555555555555556,
              "#d8576b"
             ],
             [
              0.6666666666666666,
              "#ed7953"
             ],
             [
              0.7777777777777778,
              "#fb9f3a"
             ],
             [
              0.8888888888888888,
              "#fdca26"
             ],
             [
              1,
              "#f0f921"
             ]
            ],
            "type": "histogram2dcontour"
           }
          ],
          "mesh3d": [
           {
            "colorbar": {
             "outlinewidth": 0,
             "ticks": ""
            },
            "type": "mesh3d"
           }
          ],
          "parcoords": [
           {
            "line": {
             "colorbar": {
              "outlinewidth": 0,
              "ticks": ""
             }
            },
            "type": "parcoords"
           }
          ],
          "pie": [
           {
            "automargin": true,
            "type": "pie"
           }
          ],
          "scatter": [
           {
            "fillpattern": {
             "fillmode": "overlay",
             "size": 10,
             "solidity": 0.2
            },
            "type": "scatter"
           }
          ],
          "scatter3d": [
           {
            "line": {
             "colorbar": {
              "outlinewidth": 0,
              "ticks": ""
             }
            },
            "marker": {
             "colorbar": {
              "outlinewidth": 0,
              "ticks": ""
             }
            },
            "type": "scatter3d"
           }
          ],
          "scattercarpet": [
           {
            "marker": {
             "colorbar": {
              "outlinewidth": 0,
              "ticks": ""
             }
            },
            "type": "scattercarpet"
           }
          ],
          "scattergeo": [
           {
            "marker": {
             "colorbar": {
              "outlinewidth": 0,
              "ticks": ""
             }
            },
            "type": "scattergeo"
           }
          ],
          "scattergl": [
           {
            "marker": {
             "colorbar": {
              "outlinewidth": 0,
              "ticks": ""
             }
            },
            "type": "scattergl"
           }
          ],
          "scattermapbox": [
           {
            "marker": {
             "colorbar": {
              "outlinewidth": 0,
              "ticks": ""
             }
            },
            "type": "scattermapbox"
           }
          ],
          "scatterpolar": [
           {
            "marker": {
             "colorbar": {
              "outlinewidth": 0,
              "ticks": ""
             }
            },
            "type": "scatterpolar"
           }
          ],
          "scatterpolargl": [
           {
            "marker": {
             "colorbar": {
              "outlinewidth": 0,
              "ticks": ""
             }
            },
            "type": "scatterpolargl"
           }
          ],
          "scatterternary": [
           {
            "marker": {
             "colorbar": {
              "outlinewidth": 0,
              "ticks": ""
             }
            },
            "type": "scatterternary"
           }
          ],
          "surface": [
           {
            "colorbar": {
             "outlinewidth": 0,
             "ticks": ""
            },
            "colorscale": [
             [
              0,
              "#0d0887"
             ],
             [
              0.1111111111111111,
              "#46039f"
             ],
             [
              0.2222222222222222,
              "#7201a8"
             ],
             [
              0.3333333333333333,
              "#9c179e"
             ],
             [
              0.4444444444444444,
              "#bd3786"
             ],
             [
              0.5555555555555556,
              "#d8576b"
             ],
             [
              0.6666666666666666,
              "#ed7953"
             ],
             [
              0.7777777777777778,
              "#fb9f3a"
             ],
             [
              0.8888888888888888,
              "#fdca26"
             ],
             [
              1,
              "#f0f921"
             ]
            ],
            "type": "surface"
           }
          ],
          "table": [
           {
            "cells": {
             "fill": {
              "color": "#EBF0F8"
             },
             "line": {
              "color": "white"
             }
            },
            "header": {
             "fill": {
              "color": "#C8D4E3"
             },
             "line": {
              "color": "white"
             }
            },
            "type": "table"
           }
          ]
         },
         "layout": {
          "annotationdefaults": {
           "arrowcolor": "#2a3f5f",
           "arrowhead": 0,
           "arrowwidth": 1
          },
          "autotypenumbers": "strict",
          "coloraxis": {
           "colorbar": {
            "outlinewidth": 0,
            "ticks": ""
           }
          },
          "colorscale": {
           "diverging": [
            [
             0,
             "#8e0152"
            ],
            [
             0.1,
             "#c51b7d"
            ],
            [
             0.2,
             "#de77ae"
            ],
            [
             0.3,
             "#f1b6da"
            ],
            [
             0.4,
             "#fde0ef"
            ],
            [
             0.5,
             "#f7f7f7"
            ],
            [
             0.6,
             "#e6f5d0"
            ],
            [
             0.7,
             "#b8e186"
            ],
            [
             0.8,
             "#7fbc41"
            ],
            [
             0.9,
             "#4d9221"
            ],
            [
             1,
             "#276419"
            ]
           ],
           "sequential": [
            [
             0,
             "#0d0887"
            ],
            [
             0.1111111111111111,
             "#46039f"
            ],
            [
             0.2222222222222222,
             "#7201a8"
            ],
            [
             0.3333333333333333,
             "#9c179e"
            ],
            [
             0.4444444444444444,
             "#bd3786"
            ],
            [
             0.5555555555555556,
             "#d8576b"
            ],
            [
             0.6666666666666666,
             "#ed7953"
            ],
            [
             0.7777777777777778,
             "#fb9f3a"
            ],
            [
             0.8888888888888888,
             "#fdca26"
            ],
            [
             1,
             "#f0f921"
            ]
           ],
           "sequentialminus": [
            [
             0,
             "#0d0887"
            ],
            [
             0.1111111111111111,
             "#46039f"
            ],
            [
             0.2222222222222222,
             "#7201a8"
            ],
            [
             0.3333333333333333,
             "#9c179e"
            ],
            [
             0.4444444444444444,
             "#bd3786"
            ],
            [
             0.5555555555555556,
             "#d8576b"
            ],
            [
             0.6666666666666666,
             "#ed7953"
            ],
            [
             0.7777777777777778,
             "#fb9f3a"
            ],
            [
             0.8888888888888888,
             "#fdca26"
            ],
            [
             1,
             "#f0f921"
            ]
           ]
          },
          "colorway": [
           "#636efa",
           "#EF553B",
           "#00cc96",
           "#ab63fa",
           "#FFA15A",
           "#19d3f3",
           "#FF6692",
           "#B6E880",
           "#FF97FF",
           "#FECB52"
          ],
          "font": {
           "color": "#2a3f5f"
          },
          "geo": {
           "bgcolor": "white",
           "lakecolor": "white",
           "landcolor": "#E5ECF6",
           "showlakes": true,
           "showland": true,
           "subunitcolor": "white"
          },
          "hoverlabel": {
           "align": "left"
          },
          "hovermode": "closest",
          "mapbox": {
           "style": "light"
          },
          "paper_bgcolor": "white",
          "plot_bgcolor": "#E5ECF6",
          "polar": {
           "angularaxis": {
            "gridcolor": "white",
            "linecolor": "white",
            "ticks": ""
           },
           "bgcolor": "#E5ECF6",
           "radialaxis": {
            "gridcolor": "white",
            "linecolor": "white",
            "ticks": ""
           }
          },
          "scene": {
           "xaxis": {
            "backgroundcolor": "#E5ECF6",
            "gridcolor": "white",
            "gridwidth": 2,
            "linecolor": "white",
            "showbackground": true,
            "ticks": "",
            "zerolinecolor": "white"
           },
           "yaxis": {
            "backgroundcolor": "#E5ECF6",
            "gridcolor": "white",
            "gridwidth": 2,
            "linecolor": "white",
            "showbackground": true,
            "ticks": "",
            "zerolinecolor": "white"
           },
           "zaxis": {
            "backgroundcolor": "#E5ECF6",
            "gridcolor": "white",
            "gridwidth": 2,
            "linecolor": "white",
            "showbackground": true,
            "ticks": "",
            "zerolinecolor": "white"
           }
          },
          "shapedefaults": {
           "line": {
            "color": "#2a3f5f"
           }
          },
          "ternary": {
           "aaxis": {
            "gridcolor": "white",
            "linecolor": "white",
            "ticks": ""
           },
           "baxis": {
            "gridcolor": "white",
            "linecolor": "white",
            "ticks": ""
           },
           "bgcolor": "#E5ECF6",
           "caxis": {
            "gridcolor": "white",
            "linecolor": "white",
            "ticks": ""
           }
          },
          "title": {
           "x": 0.05
          },
          "xaxis": {
           "automargin": true,
           "gridcolor": "white",
           "linecolor": "white",
           "ticks": "",
           "title": {
            "standoff": 15
           },
           "zerolinecolor": "white",
           "zerolinewidth": 2
          },
          "yaxis": {
           "automargin": true,
           "gridcolor": "white",
           "linecolor": "white",
           "ticks": "",
           "title": {
            "standoff": 15
           },
           "zerolinecolor": "white",
           "zerolinewidth": 2
          }
         }
        },
        "xaxis": {
         "anchor": "y",
         "domain": [
          0,
          1
         ],
         "title": {
          "text": "variable"
         }
        },
        "yaxis": {
         "anchor": "x",
         "domain": [
          0,
          1
         ],
         "title": {
          "text": "sum of value"
         }
        }
       }
      }
     },
     "metadata": {},
     "output_type": "display_data"
    }
   ],
   "source": [
    "px.histogram(\n",
    "    df_to_graph.sort_values(by='value'),\n",
    "    x='variable',\n",
    "    y='value',\n",
    "    color='L3'\n",
    ")"
   ]
  },
  {
   "cell_type": "code",
   "execution_count": null,
   "metadata": {},
   "outputs": [],
   "source": []
  }
 ],
 "metadata": {
  "kernelspec": {
   "display_name": "venv_arpa",
   "language": "python",
   "name": "python3"
  },
  "language_info": {
   "codemirror_mode": {
    "name": "ipython",
    "version": 3
   },
   "file_extension": ".py",
   "mimetype": "text/x-python",
   "name": "python",
   "nbconvert_exporter": "python",
   "pygments_lexer": "ipython3",
   "version": "3.11.9"
  }
 },
 "nbformat": 4,
 "nbformat_minor": 2
}
